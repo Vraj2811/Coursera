{
 "cells": [
  {
   "cell_type": "markdown",
   "metadata": {},
   "source": [
    "### Import Libraries"
   ]
  },
  {
   "cell_type": "code",
   "execution_count": 57,
   "metadata": {},
   "outputs": [],
   "source": [
    "import numpy as np\n",
    "import tensorflow as tf\n",
    "from tensorflow import keras\n",
    "from numpy import loadtxt\n",
    "import pandas as pd"
   ]
  },
  {
   "cell_type": "markdown",
   "metadata": {},
   "source": [
    "### Dataset"
   ]
  },
  {
   "cell_type": "code",
   "execution_count": 58,
   "metadata": {},
   "outputs": [],
   "source": [
    "file = open('data/small_movies_X.csv', 'rb')\n",
    "X = loadtxt(file, delimiter=\",\")\n",
    "file = open('data/small_movies_W.csv', 'rb')\n",
    "W = loadtxt(file, delimiter=\",\")\n",
    "file = open('data/small_movies_b.csv', 'rb')\n",
    "b = loadtxt(file, delimiter=\",\")\n",
    "b = b.reshape(1, -1)\n",
    "file = open('data/small_movies_Y.csv', 'rb')\n",
    "Y = loadtxt(file, delimiter=\",\")\n",
    "file = open('data/small_movies_R.csv', 'rb')\n",
    "R = loadtxt(file, delimiter=\",\")\n",
    "\n",
    "movieList_df = pd.read_csv('data/small_movie_list.csv',\n",
    "                           header=0, index_col=0,  delimiter=',', quotechar='\"')\n",
    "movieList = movieList_df[\"title\"].to_list()\n",
    "\n",
    "num_movies, num_features = X.shape\n",
    "num_users, _ = W.shape"
   ]
  },
  {
   "cell_type": "code",
   "execution_count": 59,
   "metadata": {},
   "outputs": [
    {
     "name": "stdout",
     "output_type": "stream",
     "text": [
      "Y (4778, 443)\n",
      "R (4778, 443)\n",
      "X (4778, 10)\n",
      "W (443, 10)\n",
      "b (1, 443)\n",
      "num_features 10\n",
      "num_movies 4778\n",
      "num_users 443\n"
     ]
    }
   ],
   "source": [
    "print(\"Y\", Y.shape)\n",
    "print(\"R\", R.shape)\n",
    "print(\"X\", X.shape)\n",
    "print(\"W\", W.shape)\n",
    "print(\"b\", b.shape)\n",
    "print(\"num_features\", num_features)\n",
    "print(\"num_movies\",   num_movies)\n",
    "print(\"num_users\",    num_users)"
   ]
  },
  {
   "cell_type": "code",
   "execution_count": 60,
   "metadata": {},
   "outputs": [
    {
     "name": "stdout",
     "output_type": "stream",
     "text": [
      "Average rating for movie 153 : 1.833 / 5\n"
     ]
    }
   ],
   "source": [
    "mean = np.mean(Y[152, R[152, :].astype(bool)])\n",
    "print(f\"Average rating for movie 153 : {mean:0.3f} / 5\")"
   ]
  },
  {
   "cell_type": "markdown",
   "metadata": {},
   "source": [
    "### Cost Function\n",
    "\n",
    "$$\n",
    "J =  \\left[ \\frac{1}{2}\\sum_{(i,j):r(i,j)=1}(\\mathbf{w}^{(j)} \\cdot \\mathbf{x}^{(i)} + b^{(j)} - y^{(i,j)})^2 \\right]\n",
    "+ \\underbrace{\\left[\n",
    "\\frac{\\lambda}{2}\n",
    "\\sum_{j=0}^{n_u-1}\\sum_{k=0}^{n-1}(\\mathbf{w}^{(j)}_k)^2\n",
    "+ \\frac{\\lambda}{2}\\sum_{i=0}^{n_m-1}\\sum_{k=0}^{n-1}(\\mathbf{x}_k^{(i)})^2\n",
    "\\right]}_{regularization}\n",
    "$$\n",
    "\n",
    "$$\n",
    "= \\left[ \\frac{1}{2}\\sum_{j=0}^{n_u-1} \\sum_{i=0}^{n_m-1}r(i,j)*(\\mathbf{w}^{(j)} \\cdot \\mathbf{x}^{(i)} + b^{(j)} - y^{(i,j)})^2 \\right]\n",
    "+\\text{regularization}\n",
    "$$"
   ]
  },
  {
   "cell_type": "code",
   "execution_count": 61,
   "metadata": {},
   "outputs": [],
   "source": [
    "def cost_fxn(X, W, b, Y, R, lambda_):\n",
    "\n",
    "    # diff = np.dot(X, W.T) + b - Y\n",
    "    # squared_error = np.square(diff)\n",
    "\n",
    "    # squared_error *= R\n",
    "\n",
    "    # J = 0.5 * np.sum(squared_error) + (lambda_ / 2) * \\\n",
    "    #     (np.sum(np.square(W)) + np.sum(np.square(X)))\n",
    "\n",
    "    j = (tf.linalg.matmul(X, tf.transpose(W)) + b - Y)*R\n",
    "    J = 0.5 * tf.reduce_sum(j**2) + (lambda_/2) * \\\n",
    "        (tf.reduce_sum(X**2) + tf.reduce_sum(W**2))\n",
    "    return J"
   ]
  },
  {
   "cell_type": "code",
   "execution_count": 62,
   "metadata": {},
   "outputs": [
    {
     "name": "stdout",
     "output_type": "stream",
     "text": [
      "Cost: 270821.25\n",
      "Cost (with regularization): 306504.87\n"
     ]
    }
   ],
   "source": [
    "J = cost_fxn(X, W, b, Y, R, 0)\n",
    "print(f\"Cost: {J:0.2f}\")\n",
    "\n",
    "J = cost_fxn(X, W, b, Y, R, 1.5)\n",
    "print(f\"Cost (with regularization): {J:0.2f}\")"
   ]
  },
  {
   "cell_type": "markdown",
   "metadata": {},
   "source": [
    "### My Ratings"
   ]
  },
  {
   "cell_type": "code",
   "execution_count": 63,
   "metadata": {},
   "outputs": [
    {
     "name": "stdout",
     "output_type": "stream",
     "text": [
      "\n",
      "New user ratings:\n",
      "\n",
      "Rated 5.0 for Shrek (2001)\n",
      "Rated 5.0 for Harry Potter and the Sorcerer's Stone (a.k.a. Harry Potter and the Philosopher's Stone) (2001)\n",
      "Rated 2.0 for Amelie (Fabuleux destin d'Amélie Poulain, Le) (2001)\n",
      "Rated 5.0 for Harry Potter and the Chamber of Secrets (2002)\n",
      "Rated 5.0 for Pirates of the Caribbean: The Curse of the Black Pearl (2003)\n",
      "Rated 5.0 for Lord of the Rings: The Return of the King, The (2003)\n",
      "Rated 3.0 for Eternal Sunshine of the Spotless Mind (2004)\n",
      "Rated 5.0 for Incredibles, The (2004)\n",
      "Rated 2.0 for Persuasion (2007)\n",
      "Rated 5.0 for Toy Story 3 (2010)\n",
      "Rated 3.0 for Inception (2010)\n",
      "Rated 1.0 for Louis Theroux: Law & Disorder (2008)\n",
      "Rated 1.0 for Nothing to Declare (Rien à déclarer) (2010)\n"
     ]
    }
   ],
   "source": [
    "my_ratings = np.zeros(num_movies)\n",
    "\n",
    "my_ratings[2700] = 5    # Toy Story 3 (2010)\n",
    "my_ratings[2609] = 2    # Persuasion (2007)\n",
    "my_ratings[929] = 5     # Lord of the Rings: The Return of the King, The\n",
    "my_ratings[246] = 5     # Shrek (2001)\n",
    "my_ratings[2716] = 3    # Inception\n",
    "my_ratings[1150] = 5    # Incredibles, The (2004)\n",
    "my_ratings[382] = 2     # Amelie (Fabuleux destin d'Amélie Poula\n",
    "my_ratings[366] = 5     # Harry Potter and the Sorcerer's Stone (a.k.a. Harry Potter and the Philosopher's Stone) (2001)\n",
    "my_ratings[622] = 5     # Harry Potter and the Chamber of Secrets (2002)\n",
    "my_ratings[988] = 3     # Eternal Sunshine of the Spotless Mind (2004)\n",
    "my_ratings[2925] = 1    # Louis Theroux: Law & Disorder (2008)\n",
    "my_ratings[2937] = 1    # Nothing to Declare (Rien à déclarer)\n",
    "my_ratings[793] = 5     # Pirates of the Caribbean: The Curse of the Black Pearl (2003)\n",
    "\n",
    "my_rated = [i for i in range(len(my_ratings)) if my_ratings[i] > 0]\n",
    "\n",
    "print('\\nNew user ratings:\\n')\n",
    "for i in range(len(my_ratings)):\n",
    "    if my_ratings[i] > 0:\n",
    "        print(f'Rated {my_ratings[i]} for {movieList_df.loc[i,\"title\"]}')\n",
    "\n",
    "Y = np.c_[my_ratings, Y]\n",
    "\n",
    "R = np.c_[(my_ratings != 0).astype(int), R] "
   ]
  },
  {
   "cell_type": "code",
   "execution_count": 64,
   "metadata": {},
   "outputs": [],
   "source": [
    "Ymean = (np.sum(Y*R, axis=1)/(np.sum(R, axis=1)+1e-12)).reshape(-1, 1)\n",
    "Ynorm = Y - np.multiply(Ymean, R)"
   ]
  },
  {
   "cell_type": "markdown",
   "metadata": {},
   "source": [
    "### Training the Model"
   ]
  },
  {
   "cell_type": "code",
   "execution_count": 65,
   "metadata": {},
   "outputs": [],
   "source": [
    "num_movies, num_users = Y.shape\n",
    "num_features = 100\n",
    "\n",
    "tf.random.set_seed(1234)\n",
    "W = tf.Variable(tf.random.normal(\n",
    "    (num_users,  num_features), dtype=tf.float64),  name='W')\n",
    "X = tf.Variable(tf.random.normal(\n",
    "    (num_movies, num_features), dtype=tf.float64),  name='X')\n",
    "b = tf.Variable(tf.random.normal(\n",
    "    (1,          num_users),   dtype=tf.float64),  name='b')\n",
    "\n",
    "optimizer = keras.optimizers.Adam(learning_rate=1e-1)"
   ]
  },
  {
   "cell_type": "code",
   "execution_count": 66,
   "metadata": {},
   "outputs": [
    {
     "name": "stdout",
     "output_type": "stream",
     "text": [
      "Training loss at iteration 0: 2321191.3\n"
     ]
    },
    {
     "name": "stdout",
     "output_type": "stream",
     "text": [
      "Training loss at iteration 20: 136169.3\n",
      "Training loss at iteration 40: 51863.7\n",
      "Training loss at iteration 60: 24599.0\n",
      "Training loss at iteration 80: 13630.6\n",
      "Training loss at iteration 100: 8487.7\n",
      "Training loss at iteration 120: 5807.8\n",
      "Training loss at iteration 140: 4311.6\n",
      "Training loss at iteration 160: 3435.3\n",
      "Training loss at iteration 180: 2902.1\n",
      "Training loss at iteration 200: 2566.6\n"
     ]
    }
   ],
   "source": [
    "iterations = 201\n",
    "lambda_ = 1\n",
    "\n",
    "for iter in range(iterations):\n",
    "    with tf.GradientTape() as tape:\n",
    "        cost_value = cost_fxn(X, W, b, Ynorm, R, lambda_)\n",
    "\n",
    "    grads = tape.gradient(cost_value, [X, W, b])\n",
    "\n",
    "    optimizer.apply_gradients(zip(grads, [X, W, b]))\n",
    "\n",
    "    if iter % 20 == 0:\n",
    "        print(f\"Training loss at iteration {iter}: {cost_value:0.1f}\")"
   ]
  },
  {
   "cell_type": "markdown",
   "metadata": {},
   "source": [
    "### Predictions"
   ]
  },
  {
   "cell_type": "code",
   "execution_count": 67,
   "metadata": {},
   "outputs": [
    {
     "name": "stdout",
     "output_type": "stream",
     "text": [
      "Predicting rating 4.49 for movie My Sassy Girl (Yeopgijeogin geunyeo) (2001)\n",
      "Predicting rating 4.48 for movie Martin Lawrence Live: Runteldat (2002)\n",
      "Predicting rating 4.48 for movie Memento (2000)\n",
      "Predicting rating 4.47 for movie Delirium (2014)\n",
      "Predicting rating 4.47 for movie Laggies (2014)\n",
      "Predicting rating 4.47 for movie One I Love, The (2014)\n",
      "Predicting rating 4.47 for movie Particle Fever (2013)\n",
      "Predicting rating 4.45 for movie Eichmann (2007)\n",
      "Predicting rating 4.45 for movie Battle Royale 2: Requiem (Batoru rowaiaru II: Chinkonka) (2003)\n",
      "Predicting rating 4.45 for movie Into the Abyss (2011)\n",
      "\n",
      "\n",
      "Original vs Predicted ratings:\n",
      "\n",
      "Original 5.0, Predicted 4.90 for Shrek (2001)\n",
      "Original 5.0, Predicted 4.84 for Harry Potter and the Sorcerer's Stone (a.k.a. Harry Potter and the Philosopher's Stone) (2001)\n",
      "Original 2.0, Predicted 2.13 for Amelie (Fabuleux destin d'Amélie Poulain, Le) (2001)\n",
      "Original 5.0, Predicted 4.88 for Harry Potter and the Chamber of Secrets (2002)\n",
      "Original 5.0, Predicted 4.87 for Pirates of the Caribbean: The Curse of the Black Pearl (2003)\n",
      "Original 5.0, Predicted 4.89 for Lord of the Rings: The Return of the King, The (2003)\n",
      "Original 3.0, Predicted 3.00 for Eternal Sunshine of the Spotless Mind (2004)\n",
      "Original 5.0, Predicted 4.90 for Incredibles, The (2004)\n",
      "Original 2.0, Predicted 2.11 for Persuasion (2007)\n",
      "Original 5.0, Predicted 4.80 for Toy Story 3 (2010)\n",
      "Original 3.0, Predicted 3.00 for Inception (2010)\n",
      "Original 1.0, Predicted 1.41 for Louis Theroux: Law & Disorder (2008)\n",
      "Original 1.0, Predicted 1.26 for Nothing to Declare (Rien à déclarer) (2010)\n"
     ]
    }
   ],
   "source": [
    "p = np.matmul(X.numpy(), np.transpose(W.numpy())) + b.numpy()\n",
    "\n",
    "pm = p + Ymean\n",
    "\n",
    "my_predictions = pm[:, 0]\n",
    "\n",
    "ix = tf.argsort(my_predictions, direction='DESCENDING')\n",
    "\n",
    "for i in range(17):\n",
    "    j = ix[i]\n",
    "    if j not in my_rated:\n",
    "        print(\n",
    "            f'Predicting rating {my_predictions[j]:0.2f} for movie {movieList[j]}')\n",
    "\n",
    "print('\\n\\nOriginal vs Predicted ratings:\\n')\n",
    "for i in range(len(my_ratings)):\n",
    "    if my_ratings[i] > 0:\n",
    "        print(\n",
    "            f'Original {my_ratings[i]}, Predicted {my_predictions[i]:0.2f} for {movieList[i]}')"
   ]
  }
 ],
 "metadata": {
  "kernelspec": {
   "display_name": "Python 3",
   "language": "python",
   "name": "python3"
  },
  "language_info": {
   "codemirror_mode": {
    "name": "ipython",
    "version": 3
   },
   "file_extension": ".py",
   "mimetype": "text/x-python",
   "name": "python",
   "nbconvert_exporter": "python",
   "pygments_lexer": "ipython3",
   "version": "3.11.5"
  },
  "orig_nbformat": 4
 },
 "nbformat": 4,
 "nbformat_minor": 2
}
