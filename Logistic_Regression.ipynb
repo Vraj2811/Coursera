{
 "cells": [
  {
   "attachments": {},
   "cell_type": "markdown",
   "metadata": {},
   "source": [
    "Libraries"
   ]
  },
  {
   "cell_type": "code",
   "execution_count": 88,
   "metadata": {},
   "outputs": [],
   "source": [
    "import numpy as np\n",
    "import matplotlib.pyplot as plt\n",
    "import math"
   ]
  },
  {
   "attachments": {},
   "cell_type": "markdown",
   "metadata": {},
   "source": [
    "Dataset"
   ]
  },
  {
   "cell_type": "code",
   "execution_count": 89,
   "metadata": {},
   "outputs": [],
   "source": [
    "x_train = np.array([0, 1, 2, 3, 4, 5])\n",
    "y_train = np.array([0,  0, 0, 1, 1, 1])\n",
    "\n",
    "w = [3]\n",
    "b = 0"
   ]
  },
  {
   "attachments": {},
   "cell_type": "markdown",
   "metadata": {},
   "source": [
    "Sigmoid Fxn"
   ]
  },
  {
   "cell_type": "code",
   "execution_count": 90,
   "metadata": {},
   "outputs": [],
   "source": [
    "def sigmoid(z):\n",
    "    \n",
    "    g = 1/(1+np.exp(-z))\n",
    "    return g"
   ]
  },
  {
   "attachments": {},
   "cell_type": "markdown",
   "metadata": {},
   "source": [
    "Finding Function f_wb\n",
    "\n",
    "$$ f_{\\mathbf{w},b}(\\mathbf{x}^{(i)}) = g(\\mathbf{w} \\cdot \\mathbf{x}^{(i)} + b ) $$ \n",
    "\n",
    "where\n",
    "\n",
    "$$g(z) = \\frac{1}{1+e^{-z}}$$"
   ]
  },
  {
   "cell_type": "code",
   "execution_count": 91,
   "metadata": {},
   "outputs": [],
   "source": [
    "def fxn(x, w, b):\n",
    "    m = x.shape[0]\n",
    "\n",
    "    f_wb = np.zeros(m)\n",
    "    for i in range(m):\n",
    "        f_wb[i] = sigmoid(np.dot(x[i], w)+b)\n",
    "    return (f_wb)"
   ]
  },
  {
   "attachments": {},
   "cell_type": "markdown",
   "metadata": {},
   "source": [
    "Loss Fxn\n",
    "$$\n",
    "  loss(f_{\\mathbf{w},b}(\\mathbf{x}^{(i)}), y^{(i)}) = \\begin{cases}\n",
    "    - \\log\\left(f_{\\mathbf{w},b}\\left( \\mathbf{x}^{(i)} \\right) \\right) & \\text{if $y^{(i)}=1$}\\\\\n",
    "    - \\log \\left( 1 - f_{\\mathbf{w},b}\\left( \\mathbf{x}^{(i)} \\right) \\right) & \\text{if $y^{(i)}=0$}\n",
    "  \\end{cases}\n",
    "$$\n",
    "\n",
    " $$= -y^{(i)} \\log\\left(f_{\\mathbf{w},b}\\left( \\mathbf{x}^{(i)} \\right) \\right) - \\left( 1 - y^{(i)}\\right) \\log \\left( 1 - f_{\\mathbf{w},b}\\left( \\mathbf{x}^{(i)} \\right) \\right)$$"
   ]
  },
  {
   "cell_type": "code",
   "execution_count": 92,
   "metadata": {},
   "outputs": [],
   "source": [
    "def loss(x,y,w,b):\n",
    "\n",
    "    a=sigmoid(np.dot(x, w)+b)\n",
    "    loss=-(y)*math.log(a)-(1-y)*math.log(1-a)\n",
    "\n",
    "    return loss"
   ]
  },
  {
   "attachments": {},
   "cell_type": "markdown",
   "metadata": {},
   "source": [
    "Cost Fxn\n",
    "$$ J(\\mathbf{w},b) = \\frac{1}{m} \\sum_{i=0}^{m-1} \\left[ loss(f_{\\mathbf{w},b}(\\mathbf{x}^{(i)}), y^{(i)}) \\right] \\tag{1}$$"
   ]
  },
  {
   "cell_type": "code",
   "execution_count": 93,
   "metadata": {},
   "outputs": [],
   "source": [
    "def cost_fxn(X, y, w, b):\n",
    "    \n",
    "    m = X.shape[0]\n",
    "    cost = 0.0\n",
    "    for i in range(m):\n",
    "        cost += loss(X[i],y[i],w,b)\n",
    "             \n",
    "    cost = cost / m\n",
    "    return cost"
   ]
  },
  {
   "cell_type": "code",
   "execution_count": 94,
   "metadata": {},
   "outputs": [
    {
     "data": {
      "image/png": "[encoded data removed]",
      "text/plain": [
       "<Figure size 640x480 with 1 Axes>"
      ]
     },
     "metadata": {},
     "output_type": "display_data"
    }
   ],
   "source": [
    "if len(w)==1:\n",
    "    fxn1=fxn(x_train,w,b)\n",
    "\n",
    "    plt.scatter(x_train,y_train,color=\"red\")\n",
    "    plt.plot(x_train,fxn1)\n",
    "    plt.show()"
   ]
  },
  {
   "attachments": {},
   "cell_type": "markdown",
   "metadata": {},
   "source": [
    "Finding dJ/dw and dJ/db\n",
    "\n",
    "$$\n",
    "\\frac{\\partial J(w,b)}{\\partial w}  = \\frac{1}{m} \\sum\\limits_{i = 0}^{m-1} (f_{w,b}(x^{(i)}) - y^{(i)})x^{(i)} \\\\\n",
    "  \\frac{\\partial J(w,b)}{\\partial b}  = \\frac{1}{m} \\sum\\limits_{i = 0}^{m-1} (f_{w,b}(x^{(i)}) - y^{(i)}) \\\\\n",
    "$$\n"
   ]
  },
  {
   "cell_type": "code",
   "execution_count": 95,
   "metadata": {},
   "outputs": [],
   "source": [
    "def compute_gradient(x, y, w, b):\n",
    "    dj_dw = 0\n",
    "    dj_db = 0\n",
    "    m = x.shape[0]\n",
    "    a = fxn(x, w, b) - y\n",
    "    dj_dw = (np.dot(a, x))/m\n",
    "    dj_db = np.sum(a)/m\n",
    "    return dj_dw, dj_db"
   ]
  },
  {
   "attachments": {},
   "cell_type": "markdown",
   "metadata": {},
   "source": [
    "Gradient Descent\n",
    "\n",
    "$$\\begin{align*} \\text{repeat}&\\text{ until convergence:} \\; \\lbrace \\newline\n",
    "\\;  w &= w -  \\alpha \\frac{\\partial J(w,b)}{\\partial w}  \\; \\newline \n",
    " b &= b -  \\alpha \\frac{\\partial J(w,b)}{\\partial b}  \\newline \\rbrace\n",
    "\\end{align*}$$\n",
    "where, parameters $w$, $b$ are updated simultaneously.  "
   ]
  },
  {
   "cell_type": "code",
   "execution_count": 96,
   "metadata": {},
   "outputs": [
    {
     "name": "stdout",
     "output_type": "stream",
     "text": [
      "Iteration    0: Cost 1.58e+00, w: [2.95087946], b:-0.04083286098354971\n",
      "Iteration 1000: Cost 1.09e-01, w: [2.24993662], b:-5.33360648695033\n",
      "Iteration 2000: Cost 7.63e-02, w: [2.90150611], b:-7.010326915105299\n",
      "Iteration 3000: Cost 6.02e-02, w: [3.36514718], b:-8.189497495768904\n",
      "Iteration 4000: Cost 5.01e-02, w: [3.73471493], b:-9.124541623173315\n",
      "Iteration 5000: Cost 4.30e-02, w: [4.0449892], b:-9.907303220872791\n",
      "Iteration 6000: Cost 3.76e-02, w: [4.31352254], b:-10.583530753843455\n",
      "Iteration 7000: Cost 3.35e-02, w: [4.550705], b:-11.180070480657267\n",
      "Iteration 8000: Cost 3.02e-02, w: [4.76331405], b:-11.714327973580453\n",
      "Iteration 9000: Cost 2.75e-02, w: [4.95606745], b:-12.198365569782975\n",
      "(w,b) found by gradient descent: ([5.13223632],-12.640525596327063)\n",
      "Cost is 0.02522930735040049\n"
     ]
    }
   ],
   "source": [
    "def gradient_descent(x, y, w, b, alpha, num_iters):\n",
    "    J_history = []\n",
    "    p_history = []\n",
    "\n",
    "    for i in range(num_iters):\n",
    "        dj_dw, dj_db = compute_gradient(x, y, w, b)\n",
    "        b -= alpha * dj_db\n",
    "        w -= alpha * dj_dw\n",
    "        J_history.append(cost_fxn(x, y, w, b))\n",
    "        p_history.append([w, b])\n",
    "        if i % math.ceil(num_iters/10) == 0:\n",
    "            print(f\"Iteration {i:4}: Cost {J_history[-1]:0.2e}, w: {w}, b:{b}\")\n",
    "\n",
    "    return w, b, J_history, p_history\n",
    "\n",
    "\n",
    "iterations = 10000\n",
    "tmp_alpha = 1.0e-1\n",
    "\n",
    "\n",
    "w_final, b_final, J_hist, p_hist = gradient_descent(\n",
    "    x_train, y_train, w, b, tmp_alpha, iterations)\n",
    "print(f\"(w,b) found by gradient descent: ({w_final},{b_final})\")\n",
    "\n",
    "\n",
    "f_wb = fxn(x_train, w_final, b_final)\n",
    "print(\"Cost is\", cost_fxn(x_train, y_train, w_final, b_final))"
   ]
  },
  {
   "cell_type": "code",
   "execution_count": 97,
   "metadata": {},
   "outputs": [
    {
     "data": {
      "image/png": "[encoded data removed]",
      "text/plain": [
       "<Figure size 640x480 with 1 Axes>"
      ]
     },
     "metadata": {},
     "output_type": "display_data"
    }
   ],
   "source": [
    "if len(w)==1:\n",
    "    fxn2 = fxn(x_train, w_final, b_final)\n",
    "\n",
    "    plt.scatter(x_train, y_train, color=\"red\")\n",
    "    plt.plot(x_train, fxn2)\n",
    "    plt.show()"
   ]
  }
 ],
 "metadata": {
  "kernelspec": {
   "display_name": "Python 3",
   "language": "python",
   "name": "python3"
  },
  "language_info": {
   "codemirror_mode": {
    "name": "ipython",
    "version": 3
   },
   "file_extension": ".py",
   "mimetype": "text/x-python",
   "name": "python",
   "nbconvert_exporter": "python",
   "pygments_lexer": "ipython3",
   "version": "3.11.3"
  },
  "orig_nbformat": 4
 },
 "nbformat": 4,
 "nbformat_minor": 2
}
