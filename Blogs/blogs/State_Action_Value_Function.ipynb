{
 "cells": [
  {
   "cell_type": "markdown",
   "metadata": {},
   "source": [
    "---\n",
    "title: \"State Action Value Function\"\n",
    "description: \"The state-action value function, commonly denoted as Q(s,a), represents the expected cumulative rewards of taking action a in state s and following a particular policy thereafter. It is a fundamental concept in reinforcement learning, helping agents evaluate and select actions based on their potential long-term outcomes in a given environment.\"\n",
    "author: \"Vraj Shah\"\n",
    "date: \"9/26/2023\"\n",
    "---"
   ]
  },
  {
   "cell_type": "markdown",
   "metadata": {},
   "source": [
    "### Import Libraries"
   ]
  },
  {
   "cell_type": "code",
   "execution_count": 1,
   "metadata": {},
   "outputs": [],
   "source": [
    "import numpy as np\n",
    "import matplotlib.pyplot as plt"
   ]
  },
  {
   "cell_type": "markdown",
   "metadata": {},
   "source": [
    "### Data"
   ]
  },
  {
   "cell_type": "code",
   "execution_count": 2,
   "metadata": {},
   "outputs": [],
   "source": [
    "num_states = 8\n",
    "num_actions = 2\n",
    "\n",
    "terminal_left_reward = 100\n",
    "terminal_right_reward = 40\n",
    "each_step_reward = 0\n",
    "\n",
    "gamma = 0.5                 # Discount factor\n",
    "\n",
    "misstep_prob = 0            # Probability of going in the wrong direction"
   ]
  },
  {
   "cell_type": "markdown",
   "metadata": {},
   "source": [
    "### Q Values"
   ]
  },
  {
   "cell_type": "code",
   "execution_count": 3,
   "metadata": {},
   "outputs": [],
   "source": [
    "def generate_rewards(num_states, each_step_reward, terminal_left_reward, terminal_right_reward):\n",
    "\n",
    "    rewards = [each_step_reward] * num_states\n",
    "    rewards[0] = terminal_left_reward\n",
    "    rewards[-1] = terminal_right_reward\n",
    "    \n",
    "    return rewards \n",
    "\n",
    "def generate_transition_prob(num_states, num_actions, misstep_prob = 0):\n",
    "    \n",
    "    p = np.zeros((num_states, num_actions, num_states))\n",
    "    \n",
    "    for i in range(num_states):        \n",
    "        if i != 0:\n",
    "            p[i, 0, i-1] = 1 - misstep_prob\n",
    "            p[i, 1, i-1] = misstep_prob\n",
    "            \n",
    "        if i != num_states - 1:\n",
    "            p[i, 1, i+1] = 1  - misstep_prob\n",
    "            p[i, 0, i+1] = misstep_prob\n",
    "        \n",
    "    # Terminal States\n",
    "    p[0] = np.zeros((num_actions, num_states))\n",
    "    p[-1] = np.zeros((num_actions, num_states))\n",
    "    \n",
    "    return p\n",
    "\n",
    "def calculate_Q_value(num_states, rewards, transition_prob, gamma, V_states, state, action):\n",
    "    q_sa = rewards[state] + gamma * sum([transition_prob[state, action, sp] * V_states[sp] for sp in range(num_states)])\n",
    "    return q_sa\n",
    "\n",
    "def evaluate_policy(num_states, rewards, transition_prob, gamma, policy):\n",
    "    max_policy_eval = 10000\n",
    "    threshold = 1e-10\n",
    "    \n",
    "    V = np.zeros(num_states)\n",
    "    \n",
    "    for i in range(max_policy_eval):\n",
    "        delta = 0\n",
    "        for s in range(num_states):\n",
    "            v = V[s]\n",
    "            V[s] = calculate_Q_value(num_states, rewards, transition_prob, gamma, V, s, policy[s])\n",
    "            delta = max(delta, abs(v - V[s]))\n",
    "                       \n",
    "        if delta < threshold:\n",
    "            break\n",
    "            \n",
    "    return V"
   ]
  },
  {
   "cell_type": "code",
   "execution_count": 4,
   "metadata": {},
   "outputs": [],
   "source": [
    "def calculate_Q_values(num_states, rewards, transition_prob, gamma, optimal_policy):\n",
    "    # Left and then optimal policy\n",
    "    q_left_star = np.zeros(num_states)\n",
    "\n",
    "    # Right and optimal policy\n",
    "    q_right_star = np.zeros(num_states)\n",
    "    \n",
    "    V_star =  evaluate_policy(num_states, rewards, transition_prob, gamma, optimal_policy)\n",
    "\n",
    "    for s in range(num_states):\n",
    "        q_left_star[s] = calculate_Q_value(num_states, rewards, transition_prob, gamma, V_star, s, 0)\n",
    "        q_right_star[s] = calculate_Q_value(num_states, rewards, transition_prob, gamma, V_star, s, 1)\n",
    "        \n",
    "    return q_left_star, q_right_star"
   ]
  },
  {
   "cell_type": "markdown",
   "metadata": {},
   "source": [
    "### Optimize Policy"
   ]
  },
  {
   "cell_type": "code",
   "execution_count": 5,
   "metadata": {},
   "outputs": [],
   "source": [
    "def improve_policy(num_states, num_actions, rewards, transition_prob, gamma, V, policy):\n",
    "    policy_stable = True\n",
    "    \n",
    "    for s in range(num_states):\n",
    "        q_best = V[s]\n",
    "        for a in range(num_actions):\n",
    "            q_sa = calculate_Q_value(num_states, rewards, transition_prob, gamma, V, s, a)\n",
    "            if q_sa > q_best and policy[s] != a:\n",
    "                policy[s] = a\n",
    "                q_best = q_sa\n",
    "                policy_stable = False\n",
    "    \n",
    "    return policy, policy_stable"
   ]
  },
  {
   "cell_type": "code",
   "execution_count": 6,
   "metadata": {},
   "outputs": [],
   "source": [
    "def get_optimal_policy(num_states, num_actions, rewards, transition_prob, gamma):\n",
    "    optimal_policy = np.zeros(num_states, dtype=int)\n",
    "    max_policy_iter = 10000 \n",
    "\n",
    "    for i in range(max_policy_iter):\n",
    "        policy_stable = True\n",
    "\n",
    "        V = evaluate_policy(num_states, rewards, transition_prob, gamma, optimal_policy)\n",
    "        optimal_policy, policy_stable = improve_policy(num_states, num_actions, rewards, transition_prob, gamma, V, optimal_policy)\n",
    "\n",
    "        if policy_stable:\n",
    "            break\n",
    "            \n",
    "    return optimal_policy, V"
   ]
  },
  {
   "cell_type": "markdown",
   "metadata": {},
   "source": [
    "### Visualization"
   ]
  },
  {
   "cell_type": "code",
   "execution_count": 7,
   "metadata": {},
   "outputs": [],
   "source": [
    "def plot_optimal_policy_return(num_states, optimal_policy, rewards, V):\n",
    "    actions = [r\"$\\leftarrow$\" if a == 0 else r\"$\\rightarrow$\" for a in optimal_policy]\n",
    "    actions[0] = \"\"\n",
    "    actions[-1] = \"\"\n",
    "    \n",
    "    fig, ax = plt.subplots(figsize=(2*num_states,2))\n",
    "\n",
    "    for i in range(num_states):\n",
    "        ax.text(i+0.5, 0.5, actions[i], fontsize=32, ha=\"center\", va=\"center\", color=\"orange\")\n",
    "        ax.text(i+0.5, 0.25, rewards[i], fontsize=16, ha=\"center\", va=\"center\", color=\"black\")\n",
    "        ax.text(i+0.5, 0.75, round(V[i],2), fontsize=16, ha=\"center\", va=\"center\", color=\"firebrick\")\n",
    "        ax.axvline(i, color=\"black\")\n",
    "    ax.set_xlim([0, num_states])\n",
    "    ax.set_ylim([0, 1])\n",
    "\n",
    "    ax.set_xticklabels([])\n",
    "    ax.set_yticklabels([])\n",
    "    ax.tick_params(axis='both', which='both', length=0)\n",
    "    ax.set_title(\"Optimal policy\",fontsize = 16)"
   ]
  },
  {
   "cell_type": "code",
   "execution_count": 8,
   "metadata": {},
   "outputs": [],
   "source": [
    "def plot_q_values(num_states, q_left_star, q_right_star, rewards):\n",
    "    fig, ax = plt.subplots(figsize=(3*num_states,2))\n",
    "\n",
    "    for i in range(num_states):\n",
    "        ax.text(i+0.2, 0.6, round(q_left_star[i],2), fontsize=16, ha=\"center\", va=\"center\", color=\"firebrick\")\n",
    "        ax.text(i+0.8, 0.6, round(q_right_star[i],2), fontsize=16, ha=\"center\", va=\"center\", color=\"firebrick\")\n",
    "\n",
    "        ax.text(i+0.5, 0.25, rewards[i], fontsize=20, ha=\"center\", va=\"center\", color=\"black\")\n",
    "        ax.axvline(i, color=\"black\")\n",
    "    ax.set_xlim([0, num_states])\n",
    "    ax.set_ylim([0, 1])\n",
    "\n",
    "    ax.set_xticklabels([])\n",
    "    ax.set_yticklabels([])\n",
    "    ax.tick_params(axis='both', which='both', length=0)\n",
    "    ax.set_title(\"Q(s,a)\",fontsize = 16)"
   ]
  },
  {
   "cell_type": "code",
   "execution_count": 9,
   "metadata": {},
   "outputs": [],
   "source": [
    "def generate_visualization(num_states,num_actions,terminal_left_reward, terminal_right_reward, each_step_reward, gamma, misstep_prob):\n",
    "\n",
    "    rewards = generate_rewards(num_states, each_step_reward, terminal_left_reward, terminal_right_reward)\n",
    "    transition_prob = generate_transition_prob(num_states, num_actions, misstep_prob)\n",
    "    \n",
    "    optimal_policy, V = get_optimal_policy(num_states, num_actions, rewards, transition_prob, gamma)\n",
    "    q_left_star, q_right_star = calculate_Q_values(num_states, rewards, transition_prob, gamma, optimal_policy)\n",
    "    \n",
    "    plot_optimal_policy_return(num_states, optimal_policy, rewards, V)\n",
    "    plot_q_values(num_states, q_left_star, q_right_star, rewards)"
   ]
  },
  {
   "cell_type": "code",
   "execution_count": 10,
   "metadata": {},
   "outputs": [
    {
     "data": {
      "image/png": "[encoded data removed]",
      "text/plain": [
       "<Figure size 1600x200 with 1 Axes>"
      ]
     },
     "metadata": {},
     "output_type": "display_data"
    },
    {
     "data": {
      "image/png": "[encoded data removed]",
      "text/plain": [
       "<Figure size 2400x200 with 1 Axes>"
      ]
     },
     "metadata": {},
     "output_type": "display_data"
    }
   ],
   "source": [
    "generate_visualization(num_states,num_actions,terminal_left_reward, terminal_right_reward, each_step_reward, gamma, misstep_prob)"
   ]
  }
 ],
 "metadata": {
  "kernelspec": {
   "display_name": "Python 3",
   "language": "python",
   "name": "python3"
  },
  "language_info": {
   "codemirror_mode": {
    "name": "ipython",
    "version": 3
   },
   "file_extension": ".py",
   "mimetype": "text/x-python",
   "name": "python",
   "nbconvert_exporter": "python",
   "pygments_lexer": "ipython3",
   "version": "3.11.5"
  },
  "orig_nbformat": 4
 },
 "nbformat": 4,
 "nbformat_minor": 2
}
